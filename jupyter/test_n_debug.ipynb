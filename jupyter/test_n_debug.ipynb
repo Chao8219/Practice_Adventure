{
 "cells": [
  {
   "cell_type": "markdown",
   "metadata": {},
   "source": [
    "## About This Notebook\n",
    "This jupyter notebook is to test and debug modules."
   ]
  },
  {
   "cell_type": "code",
   "execution_count": null,
   "metadata": {},
   "outputs": [],
   "source": [
    "import sys\n",
    "import numpy\n",
    "path = 'C:\\\\Users\\\\Chao\\\\Documents\\\\chao-windows-git\\\\practice-adventure'\n",
    "sys.path.insert(0, path)"
   ]
  },
  {
   "cell_type": "code",
   "execution_count": null,
   "metadata": {},
   "outputs": [],
   "source": [
    "import player_class\n",
    "import app_class\n",
    "import tkinter as tk\n",
    "import tkinter.font"
   ]
  },
  {
   "cell_type": "code",
   "execution_count": null,
   "metadata": {},
   "outputs": [],
   "source": [
    "BB = numpy.zeros((1, 3))\n",
    "BB[:] = (1.0, 2.0, \n",
    "         3.0)\n",
    "print(BB[0])\n",
    "print(BB)\n",
    "a, b, c = BB[0]\n",
    "print(a, b, c)\n",
    "print(BB[0, 0])"
   ]
  },
  {
   "cell_type": "code",
   "execution_count": null,
   "metadata": {},
   "outputs": [],
   "source": [
    "player1 = player_class.CreatePlayer('Jack')"
   ]
  },
  {
   "cell_type": "code",
   "execution_count": null,
   "metadata": {},
   "outputs": [],
   "source": [
    "temp_armor = player1.armor\n",
    "print(temp_armor)\n",
    "a, b, c, d = temp_armor\n",
    "print(a, b, c, d)"
   ]
  },
  {
   "cell_type": "code",
   "execution_count": null,
   "metadata": {
    "scrolled": true
   },
   "outputs": [],
   "source": []
  },
  {
   "cell_type": "code",
   "execution_count": null,
   "metadata": {
    "scrolled": true
   },
   "outputs": [],
   "source": [
    "root = tk.Tk()\n",
    "root.title('Take A New Adventure')\n",
    "root.geometry('810x500') # 0.618 ratio\n",
    "root.resizable(width=False, height=False)\n",
    "root.configure(background='cornflower blue')\n",
    "app = app_class.Application(master=root)\n",
    "app.mainloop()"
   ]
  },
  {
   "cell_type": "code",
   "execution_count": null,
   "metadata": {},
   "outputs": [],
   "source": []
  }
 ],
 "metadata": {
  "kernelspec": {
   "display_name": "Python 3",
   "language": "python",
   "name": "python3"
  },
  "language_info": {
   "codemirror_mode": {
    "name": "ipython",
    "version": 3
   },
   "file_extension": ".py",
   "mimetype": "text/x-python",
   "name": "python",
   "nbconvert_exporter": "python",
   "pygments_lexer": "ipython3",
   "version": "3.6.7"
  }
 },
 "nbformat": 4,
 "nbformat_minor": 2
}
