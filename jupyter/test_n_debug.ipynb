{
 "cells": [
  {
   "cell_type": "markdown",
   "metadata": {},
   "source": [
    "## About This Notebook\n",
    "This jupyter notebook is to test and debug modules."
   ]
  },
  {
   "cell_type": "code",
   "execution_count": null,
   "metadata": {},
   "outputs": [],
   "source": [
    "import sys\n",
    "import numpy\n",
    "path = 'C:\\\\Users\\\\Chao\\\\Documents\\\\chao-windows-git\\\\practice-adventure'\n",
    "sys.path.insert(0, path)"
   ]
  },
  {
   "cell_type": "code",
   "execution_count": null,
   "metadata": {},
   "outputs": [],
   "source": [
    "import player_class\n",
    "import app_class\n",
    "import tkinter as tk\n",
    "import tkinter.font\n",
    "import user_io"
   ]
  },
  {
   "cell_type": "markdown",
   "metadata": {},
   "source": [
    "## 1 Array Shape Test"
   ]
  },
  {
   "cell_type": "code",
   "execution_count": null,
   "metadata": {},
   "outputs": [],
   "source": [
    "BB = numpy.zeros((1, 3))\n",
    "BB[:] = (1.0, 2.0, \n",
    "         3.0)\n",
    "print(BB[0])\n",
    "print(BB)\n",
    "a, b, c = BB[0]\n",
    "print(a, b, c)\n",
    "print(BB[0, 0])"
   ]
  },
  {
   "cell_type": "markdown",
   "metadata": {},
   "source": [
    "With shape (1, n), one should user index[i, j] to access the elements"
   ]
  },
  {
   "cell_type": "markdown",
   "metadata": {},
   "source": [
    "## 2 Class Instantiation Test"
   ]
  },
  {
   "cell_type": "code",
   "execution_count": null,
   "metadata": {},
   "outputs": [],
   "source": [
    "player1 = player_class.CreatePlayer('Jack')"
   ]
  },
  {
   "cell_type": "code",
   "execution_count": null,
   "metadata": {},
   "outputs": [],
   "source": [
    "temp_armor = player1.armor\n",
    "print(temp_armor)\n",
    "a, b, c, d = temp_armor\n",
    "print(a, b, c, d)"
   ]
  },
  {
   "cell_type": "code",
   "execution_count": null,
   "metadata": {},
   "outputs": [],
   "source": []
  },
  {
   "cell_type": "markdown",
   "metadata": {},
   "source": [
    "## 4 GUI Test"
   ]
  },
  {
   "cell_type": "code",
   "execution_count": null,
   "metadata": {
    "scrolled": false
   },
   "outputs": [],
   "source": [
    "root = tk.Tk()\n",
    "root.title('Take A New Adventure')\n",
    "root.geometry('810x500') # 0.618 ratio\n",
    "root.resizable(width=False, height=False)\n",
    "root.configure(background='cornflower blue')\n",
    "app = app_class.Application(master=root)\n",
    "app.mainloop()"
   ]
  },
  {
   "cell_type": "markdown",
   "metadata": {},
   "source": [
    "## 5 Tkinter Test"
   ]
  },
  {
   "cell_type": "code",
   "execution_count": null,
   "metadata": {},
   "outputs": [],
   "source": [
    "raise TypeError('Hold on')"
   ]
  },
  {
   "cell_type": "code",
   "execution_count": null,
   "metadata": {},
   "outputs": [],
   "source": [
    "import tkinter as tk\n",
    "from tkinter.font import Font\n",
    "\n",
    "class Pad(tk.Frame):\n",
    "\n",
    "    def __init__(self, parent, *args, **kwargs):\n",
    "        tk.Frame.__init__(self, parent, *args, **kwargs)\n",
    "\n",
    "        self.toolbar = tk.Frame(self, bg=\"#eee\")\n",
    "        self.toolbar.pack(side=\"top\", fill=\"x\")\n",
    "\n",
    "        self.bold_btn = tk.Button(self.toolbar, text=\"Bold\", command=self.make_bold)\n",
    "        self.bold_btn.pack(side=\"left\")\n",
    "\n",
    "        self.clear_btn = tk.Button(self.toolbar, text=\"Clear\", command=self.clear)\n",
    "        self.clear_btn.pack(side=\"left\")\n",
    "\n",
    "        # Creates a bold font\n",
    "        self.bold_font = Font(family=\"Helvetica\", size=14, weight=\"bold\")\n",
    "\n",
    "        self.text = tk.Text(self)\n",
    "        self.text.insert(\"end\", \"Select part of text and then click 'Bold'...\")\n",
    "        self.text.focus()\n",
    "        self.text.pack(fill=\"both\", expand=True)\n",
    "\n",
    "        # configuring a tag called BOLD\n",
    "        self.text.tag_configure(\"BOLD\", font=self.bold_font)\n",
    "\n",
    "    def make_bold(self):\n",
    "        # tk.TclError exception is raised if not text is selected\n",
    "        try:\n",
    "            self.text.tag_add(\"BOLD\", \"sel.first\", \"sel.last\")        \n",
    "        except tk.TclError:\n",
    "            pass\n",
    "\n",
    "    def clear(self):\n",
    "        self.text.tag_remove(\"BOLD\",  \"1.0\", 'end')\n",
    "        the_end = self.text.index(tk.END)\n",
    "        the_insert = self.text.index(tk.INSERT)\n",
    "        print(the_insert)\n",
    "\n",
    "def demo():\n",
    "    root = tk.Tk()\n",
    "    Pad(root).pack(expand=1, fill=\"both\")\n",
    "    root.mainloop()\n",
    "\n",
    "\n",
    "if __name__ == \"__main__\":\n",
    "    demo()"
   ]
  },
  {
   "cell_type": "code",
   "execution_count": null,
   "metadata": {},
   "outputs": [],
   "source": [
    "test ='\"Select part of text and then click \\'Bold\\'...'\n",
    "len(test)"
   ]
  },
  {
   "cell_type": "code",
   "execution_count": null,
   "metadata": {},
   "outputs": [],
   "source": []
  },
  {
   "cell_type": "code",
   "execution_count": null,
   "metadata": {},
   "outputs": [],
   "source": []
  }
 ],
 "metadata": {
  "kernelspec": {
   "display_name": "Python 3",
   "language": "python",
   "name": "python3"
  },
  "language_info": {
   "codemirror_mode": {
    "name": "ipython",
    "version": 3
   },
   "file_extension": ".py",
   "mimetype": "text/x-python",
   "name": "python",
   "nbconvert_exporter": "python",
   "pygments_lexer": "ipython3",
   "version": "3.6.7"
  }
 },
 "nbformat": 4,
 "nbformat_minor": 2
}
