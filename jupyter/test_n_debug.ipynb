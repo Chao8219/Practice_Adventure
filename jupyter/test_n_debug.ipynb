{
 "cells": [
  {
   "cell_type": "markdown",
   "metadata": {},
   "source": [
    "## About This Notebook\n",
    "This jupyter notebook is to test and debug modules."
   ]
  },
  {
   "cell_type": "code",
   "execution_count": 3,
   "metadata": {},
   "outputs": [],
   "source": [
    "import sys\n",
    "import numpy\n",
    "path = 'C:\\\\Users\\\\Chao\\\\Documents\\\\chao-windows-git\\\\practice-adventure'\n",
    "sys.path.insert(0, path)\n",
    "import player_class"
   ]
  },
  {
   "cell_type": "code",
   "execution_count": 51,
   "metadata": {},
   "outputs": [
    {
     "name": "stdout",
     "output_type": "stream",
     "text": [
      "<class 'numpy.ndarray'>\n",
      "['' 'Jack' '']\n"
     ]
    }
   ],
   "source": [
    "BB = numpy.array(['', '', ''], dtype='<U256')\n",
    "BB[1] = 'Jack'\n",
    "print(type(BB))\n",
    "print(BB)"
   ]
  },
  {
   "cell_type": "code",
   "execution_count": 52,
   "metadata": {},
   "outputs": [
    {
     "name": "stdout",
     "output_type": "stream",
     "text": [
      "<class 'numpy.ndarray'>\n",
      "['abc' 'Jack2' 'wtf']\n"
     ]
    }
   ],
   "source": [
    "BB[:] = 'abc', 'Jack2', 'wtf'\n",
    "print(type(BB))\n",
    "print(BB)"
   ]
  },
  {
   "cell_type": "code",
   "execution_count": null,
   "metadata": {},
   "outputs": [],
   "source": []
  }
 ],
 "metadata": {
  "kernelspec": {
   "display_name": "Python 3",
   "language": "python",
   "name": "python3"
  },
  "language_info": {
   "codemirror_mode": {
    "name": "ipython",
    "version": 3
   },
   "file_extension": ".py",
   "mimetype": "text/x-python",
   "name": "python",
   "nbconvert_exporter": "python",
   "pygments_lexer": "ipython3",
   "version": "3.6.7"
  }
 },
 "nbformat": 4,
 "nbformat_minor": 2
}
